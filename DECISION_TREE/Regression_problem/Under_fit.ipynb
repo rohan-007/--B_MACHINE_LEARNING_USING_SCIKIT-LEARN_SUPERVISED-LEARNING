{
 "cells": [
  {
   "cell_type": "code",
   "execution_count": 84,
   "metadata": {},
   "outputs": [],
   "source": [
    "from sklearn.datasets import make_regression \n",
    "import matplotlib.pyplot as plt"
   ]
  },
  {
   "cell_type": "code",
   "execution_count": 85,
   "metadata": {},
   "outputs": [
    {
     "data": {
      "text/plain": [
       "<matplotlib.collections.PathCollection at 0xae20768f08>"
      ]
     },
     "execution_count": 85,
     "metadata": {},
     "output_type": "execute_result"
    },
    {
     "data": {
      "image/png": "[encoded data removed]",
      "text/plain": [
       "<Figure size 432x288 with 1 Axes>"
      ]
     },
     "metadata": {
      "needs_background": "light"
     },
     "output_type": "display_data"
    }
   ],
   "source": [
    "plt.figure()\n",
    "x,y=make_regression(n_samples=100,n_features=1,n_informative=1,n_targets=1,noise=10,random_state=10)\n",
    "plt.scatter(x,y)"
   ]
  },
  {
   "cell_type": "code",
   "execution_count": 86,
   "metadata": {},
   "outputs": [],
   "source": [
    "from sklearn.tree import DecisionTreeRegressor"
   ]
  },
  {
   "cell_type": "code",
   "execution_count": 97,
   "metadata": {},
   "outputs": [],
   "source": [
    "tree_reg=DecisionTreeRegressor(max_depth=4,random_state=2)"
   ]
  },
  {
   "cell_type": "code",
   "execution_count": 98,
   "metadata": {},
   "outputs": [],
   "source": [
    "from sklearn.model_selection import train_test_split\n",
    "x_train, x_test, y_train, y_test = train_test_split(x, y, test_size=0.2, random_state=42)"
   ]
  },
  {
   "cell_type": "code",
   "execution_count": 99,
   "metadata": {},
   "outputs": [
    {
     "data": {
      "text/plain": [
       "DecisionTreeRegressor(ccp_alpha=0.0, criterion='mse', max_depth=4,\n",
       "                      max_features=None, max_leaf_nodes=None,\n",
       "                      min_impurity_decrease=0.0, min_impurity_split=None,\n",
       "                      min_samples_leaf=1, min_samples_split=2,\n",
       "                      min_weight_fraction_leaf=0.0, presort='deprecated',\n",
       "                      random_state=2, splitter='best')"
      ]
     },
     "execution_count": 99,
     "metadata": {},
     "output_type": "execute_result"
    }
   ],
   "source": [
    "tree_reg.fit(x_train,y_train)"
   ]
  },
  {
   "cell_type": "code",
   "execution_count": 100,
   "metadata": {},
   "outputs": [],
   "source": [
    "predict=tree_reg.predict(x_test)"
   ]
  },
  {
   "cell_type": "code",
   "execution_count": 101,
   "metadata": {},
   "outputs": [
    {
     "data": {
      "text/plain": [
       "array([ -2.62435978, -14.10529096,   5.68932623,   5.68932623,\n",
       "         5.68932623, -22.74459709,  53.05406485, -67.52534297,\n",
       "        33.58896468, -22.74459709,   5.68932623, -67.52534297,\n",
       "         5.68932623, -67.9114864 ,  44.19032502, -14.10529096,\n",
       "       -22.74459709, -50.18613456,  22.24689996,   5.68932623])"
      ]
     },
     "execution_count": 101,
     "metadata": {},
     "output_type": "execute_result"
    }
   ],
   "source": [
    "predict"
   ]
  },
  {
   "cell_type": "code",
   "execution_count": 102,
   "metadata": {},
   "outputs": [
    {
     "name": "stdout",
     "output_type": "stream",
     "text": [
      "0.8517893518302826\n"
     ]
    }
   ],
   "source": [
    "acc=tree_reg.score(x_test,y_test)\n",
    "print(acc)"
   ]
  },
  {
   "cell_type": "code",
   "execution_count": 103,
   "metadata": {},
   "outputs": [
    {
     "data": {
      "text/plain": [
       "0.9429177323435564"
      ]
     },
     "execution_count": 103,
     "metadata": {},
     "output_type": "execute_result"
    }
   ],
   "source": [
    "tree_reg.score(x_train,y_train)"
   ]
  },
  {
   "cell_type": "code",
   "execution_count": 104,
   "metadata": {},
   "outputs": [
    {
     "data": {
      "text/plain": [
       "[Text(151.52586206896552, 244.62, 'X[0] <= 0.513\\nmse = 842.648\\nsamples = 80\\nvalue = 5.568'),\n",
       " Text(76.96551724137932, 190.26000000000002, 'X[0] <= -1.249\\nmse = 367.171\\nsamples = 54\\nvalue = -10.03'),\n",
       " Text(38.48275862068966, 135.9, 'X[0] <= -1.8\\nmse = 117.61\\nsamples = 5\\nvalue = -55.252'),\n",
       " Text(19.24137931034483, 81.54000000000002, 'X[0] <= -1.994\\nmse = 0.037\\nsamples = 2\\nvalue = -67.718'),\n",
       " Text(9.620689655172415, 27.180000000000007, 'mse = 0.0\\nsamples = 1\\nvalue = -67.911'),\n",
       " Text(28.862068965517246, 27.180000000000007, 'mse = -0.0\\nsamples = 1\\nvalue = -67.525'),\n",
       " Text(57.72413793103449, 81.54000000000002, 'X[0] <= -1.463\\nmse = 23.313\\nsamples = 3\\nvalue = -46.941'),\n",
       " Text(48.10344827586207, 27.180000000000007, 'mse = 3.38\\nsamples = 2\\nvalue = -50.186'),\n",
       " Text(67.3448275862069, 27.180000000000007, 'mse = -0.0\\nsamples = 1\\nvalue = -40.451'),\n",
       " Text(115.44827586206898, 135.9, 'X[0] <= -0.344\\nmse = 162.662\\nsamples = 49\\nvalue = -5.415'),\n",
       " Text(96.20689655172414, 81.54000000000002, 'X[0] <= -0.545\\nmse = 63.431\\nsamples = 16\\nvalue = -18.965'),\n",
       " Text(86.58620689655173, 27.180000000000007, 'mse = 23.694\\nsamples = 9\\nvalue = -22.745'),\n",
       " Text(105.82758620689656, 27.180000000000007, 'mse = 72.537\\nsamples = 7\\nvalue = -14.105'),\n",
       " Text(134.6896551724138, 81.54000000000002, 'X[0] <= 0.047\\nmse = 78.597\\nsamples = 33\\nvalue = 1.155'),\n",
       " Text(125.0689655172414, 27.180000000000007, 'mse = 63.586\\nsamples = 18\\nvalue = -2.624'),\n",
       " Text(144.31034482758622, 27.180000000000007, 'mse = 58.909\\nsamples = 15\\nvalue = 5.689'),\n",
       " Text(226.08620689655174, 190.26000000000002, 'X[0] <= 1.32\\nmse = 275.363\\nsamples = 26\\nvalue = 37.964'),\n",
       " Text(192.41379310344828, 135.9, 'X[0] <= 0.88\\nmse = 92.626\\nsamples = 19\\nvalue = 29.885'),\n",
       " Text(173.17241379310346, 81.54000000000002, 'X[0] <= 0.621\\nmse = 62.893\\nsamples = 9\\nvalue = 23.929'),\n",
       " Text(163.55172413793105, 27.180000000000007, 'mse = 10.027\\nsamples = 3\\nvalue = 27.293'),\n",
       " Text(182.79310344827587, 27.180000000000007, 'mse = 80.84\\nsamples = 6\\nvalue = 22.247'),\n",
       " Text(211.6551724137931, 81.54000000000002, 'X[0] <= 0.918\\nmse = 58.724\\nsamples = 10\\nvalue = 35.245'),\n",
       " Text(202.0344827586207, 27.180000000000007, 'mse = 0.0\\nsamples = 1\\nvalue = 50.154'),\n",
       " Text(221.27586206896552, 27.180000000000007, 'mse = 37.809\\nsamples = 9\\nvalue = 33.589'),\n",
       " Text(259.7586206896552, 135.9, 'X[0] <= 2.39\\nmse = 113.25\\nsamples = 7\\nvalue = 59.895'),\n",
       " Text(250.1379310344828, 81.54000000000002, 'X[0] <= 1.579\\nmse = 84.17\\nsamples = 6\\nvalue = 62.512'),\n",
       " Text(240.51724137931038, 27.180000000000007, 'mse = 54.157\\nsamples = 2\\nvalue = 53.054'),\n",
       " Text(259.7586206896552, 27.180000000000007, 'mse = 32.089\\nsamples = 4\\nvalue = 67.241'),\n",
       " Text(269.3793103448276, 81.54000000000002, 'mse = 0.0\\nsamples = 1\\nvalue = 44.19')]"
      ]
     },
     "execution_count": 104,
     "metadata": {},
     "output_type": "execute_result"
    },
    {
     "data": {
      "image/png": "[encoded data removed]",
      "text/plain": [
       "<Figure size 360x360 with 1 Axes>"
      ]
     },
     "metadata": {
      "needs_background": "light"
     },
     "output_type": "display_data"
    }
   ],
   "source": [
    "from sklearn import tree\n",
    "fig=plt.figure(figsize=(5,5))\n",
    "tree.plot_tree(tree_reg)"
   ]
  },
  {
   "cell_type": "code",
   "execution_count": 105,
   "metadata": {},
   "outputs": [],
   "source": [
    "import numpy as np\n",
    "x_range=np.arange(x.min()-1,x.max()+1,0.01).reshape(660,1)\n",
    "labels=tree_reg.predict(x_range)\n"
   ]
  },
  {
   "cell_type": "code",
   "execution_count": 106,
   "metadata": {},
   "outputs": [
    {
     "data": {
      "text/plain": [
       "<matplotlib.collections.PathCollection at 0xae21bc5bc8>"
      ]
     },
     "execution_count": 106,
     "metadata": {},
     "output_type": "execute_result"
    },
    {
     "data": {
      "image/png": "[encoded data removed]",
      "text/plain": [
       "<Figure size 432x288 with 1 Axes>"
      ]
     },
     "metadata": {
      "needs_background": "light"
     },
     "output_type": "display_data"
    }
   ],
   "source": [
    "plt.plot(x_range,labels,c='red')\n",
    "plt.scatter(x,y)"
   ]
  },
  {
   "cell_type": "code",
   "execution_count": null,
   "metadata": {},
   "outputs": [],
   "source": []
  }
 ],
 "metadata": {
  "kernelspec": {
   "display_name": "Python 3",
   "language": "python",
   "name": "python3"
  },
  "language_info": {
   "codemirror_mode": {
    "name": "ipython",
    "version": 3
   },
   "file_extension": ".py",
   "mimetype": "text/x-python",
   "name": "python",
   "nbconvert_exporter": "python",
   "pygments_lexer": "ipython3",
   "version": "3.7.7"
  }
 },
 "nbformat": 4,
 "nbformat_minor": 4
}
